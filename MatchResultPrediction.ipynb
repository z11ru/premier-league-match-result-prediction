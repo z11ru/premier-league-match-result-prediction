{
 "cells": [
  {
   "cell_type": "markdown",
   "metadata": {},
   "source": [
    "## Pitch Predict: English Premier League Match Results Prediction"
   ]
  },
  {
   "cell_type": "markdown",
   "metadata": {},
   "source": [
    "## Introduction\n",
    "\n",
    "In this project, we compare the performance of many Machine Learning and Deep Learning strategies and models to predict the outcomes of English Premier League soccer matches based on the average player performance of both teams from the previous season (mormalized by minutes played). We have two targets for prediction: the result (Home Win, Away Win, or Draw), as well as the Goal Difference for the home team (home goals - away goals). This allows us to perform both classification and regression, to have a greater chance at discovering the best predictor model possible.\n",
    "\n",
    "The goal is to have the best model (that is within our means to achieve) to **predict the result of an EPL match based only on the team sheets (player list) for the Home and Away teams.** This could be useful for betting, fantasy sports, or other applications where predicting the outcome of a match based on limited, but fast and readily available information is important.\n",
    "\n",
    "Both traditional machine learning and basic deep learning techniques will be used. To ensure a rigorous assessment, we will employ pipelines for hyperparameter tuning, and k-fold cross-validation for validating model performance. We will also create different neural network models, such as a basic fully connected NN, an Tabular CNN, or other neural network strategies, and compare their accuracy metrics. This methodology will give us an exhaustive exploration of a wide array of models for the selection of a model that best captures the match outcomes."
   ]
  },
  {
   "cell_type": "markdown",
   "metadata": {},
   "source": [
    "### Data Sources\n",
    "*Click to follow links.*\n",
    "\n",
    "Match Statistics: [matches.jsonl](https://www.kaggle.com/datasets/hugomathien/soccer/data) and [players.csv](https://www.kaggle.com/datasets/hugomathien/soccer/data)\n",
    "\n",
    "Player Statistics: [All Files in player_statistics folder](https://www.kaggle.com/datasets/davidantonioteixeira/premier-league-player-statistics-1992-2022?resource=download)\n"
   ]
  },
  {
   "cell_type": "markdown",
   "metadata": {},
   "source": [
    "### Training Data Construction\n",
    "\n",
    "The datasets downloaded from the links above each contain part of, but not the entire, data required for training a machine learning model for our purposes. The `matches.jsonl` file contains match data, while the `players.csv` file contains information to map player names with player ids. The player statistics files contain player data, but separated across different seasons and for different statistics.\n",
    "\n",
    "The dataset construction process involves several key steps: merging player data, merging match data, mapping player names to IDs, and finally creating a unified dataset for ML training. Each step is encapsulated in a Python script, executed sequentially to ensure data integrity and alignment.\n",
    "\n",
    "**Merging Player Data `(merge_player_data.py)`**\n",
    "\n",
    "Individual CSV files containing player statistics are read from the ./player_statistics directory one at a time in a for loop.\n",
    "Columns not relevant to the analysis ('Rank', 'Club', 'Nationality') are removed.\n",
    "A unified DataFrame is created by merging individual DataFrames on 'Initial Year' and 'Player'. 'Initial Year' is the year the for which the player statistics are calculated - it represents the start of the Premier League season. However, since we want to predict match results based on player stats from the previous season, we need to align the player data with the match data accordingly. \n",
    "- <span style = \"color:blue\"> This is achieved by adding 1 to all values in the initial year column. </span> This way, the player data for what was originally the 2020 season is now aligned with the match data for the 2021 season, and so on.\n",
    "- <span style=\"color:blue\">Missing 'Minutes Played' values are filled with the column mean.</span>\n",
    "- <span style=\"color:blue\">All statistics are normalized by minutes played for each player.</span>\n",
    "\n",
    "**Merging Match Data `(merge_match_data.py)`**\n",
    "\n",
    "The script reads a JSONL file (matches.jsonl), dropping entries not pertaining to the English league (`league == en`). For each line in the input file, the script reads and parses the JSON object representing a match's statistics. It constructs a row for each match that includes the match ID, year, home and away goals, and identifiers for every player (starting and substitutes) from both home and away teams. These rows are written to the output CSV file, effectively transforming and merging the JSON Lines data into a structured CSV format to merge with player data above.\n",
    "\n",
    "**Map Players to Matches `(map_player_to_id.py)`**\n",
    "\n",
    "The players in player_data are identified using names, and for match data, they are identified using numerical IDs. This script maps player names to player IDs. The players.csv contains the names and IDs of players, but some are referred only by their nicknames. This script matches either full names or nicknames to player IDs.\n",
    "\n",
    "**Create Training Data `(create_final_csv.py)`**\n",
    "\n",
    "The final step in the data construction process is to merge the player and match data. The script gathers all players for either team and calculates the mean value for each statistic across all players for that team based on their *previous* season. The final csv file contains the features Average_Home_Goals_Per_Minute_Played, Average_Away_Assists_Per_Minute_Played, etc. for each match along with the final match result (Home Win, represented as 1, Away Win, represented as -1, and Draw, represented as 0). In hindsight, the mapping should have been 0, 1, and 2. This is fixed below. The Home Goal Difference is also calculated as the difference between home and away goals. We have 2 target vectors (only one will be used for each model, obviously). But we now can compare performance of classification versus regression."
   ]
  },
  {
   "cell_type": "markdown",
   "metadata": {},
   "source": [
    "# 1. Classification Models"
   ]
  },
  {
   "cell_type": "code",
   "execution_count": 60,
   "metadata": {},
   "outputs": [],
   "source": [
    "import torch\n",
    "import torch.nn as nn\n",
    "import torch.optim as optim\n",
    "from torch.utils.data import DataLoader, Dataset, TensorDataset, Subset, random_split\n",
    "from sklearn.model_selection import train_test_split, KFold\n",
    "from sklearn.preprocessing import StandardScaler\n",
    "import pandas as pd\n",
    "import numpy as np"
   ]
  },
  {
   "cell_type": "markdown",
   "metadata": {},
   "source": [
    "### 1.1 Data Splitting\n"
   ]
  },
  {
   "cell_type": "code",
   "execution_count": 61,
   "metadata": {},
   "outputs": [],
   "source": [
    "# A custom dataset class is used here. It inherits from the pytorch Dataset class.\n",
    "# This class is used to make it easier to use pytortch's DataLoaders, as well as to handle the data througout the creation of multiple different models.\n",
    "\n",
    "class CustomDataset(Dataset):\n",
    "    def __init__(self, features, labels):\n",
    "        self.features = features\n",
    "        self.labels = labels\n",
    "\n",
    "    def __len__(self):\n",
    "        return len(self.labels)\n",
    "\n",
    "    def __getitem__(self, idx):\n",
    "        return self.features[idx], self.labels[idx]"
   ]
  },
  {
   "cell_type": "code",
   "execution_count": 62,
   "metadata": {},
   "outputs": [],
   "source": [
    "# Load and prepare the data\n",
    "# The values -1, 0, and 1 for classification labels are not compatible with PyTorch, so we remap them to 0, 1, and 2.\n",
    "# Home Gaol Difference is not used in this section, as that will later be used as a new target to create regression models.\n",
    "data = pd.read_csv('final_dataset.csv')\n",
    "X = data.drop(['Match ID', 'Result', 'Home Goal Difference'], axis=1).values\n",
    "y = data['Result'].map({-1: 0, 0: 1, 1: 2}).values  # Convert class labels from -1, 0, 1 to 0, 1, 2\n",
    "\n",
    "# Split into train+val and test sets\n",
    "X_trainval, X_test, y_trainval, y_test = train_test_split(X, y, test_size=0.2, random_state=42)\n",
    "\n",
    "# Then split train+val into train and val sets\n",
    "X_train, X_val, y_train, y_val = train_test_split(X_trainval, y_trainval, test_size=0.25, random_state=42) # 0.25 x 0.8 = 0.2\n",
    "\n",
    "# Scale features (fit on training data, then transform train, val, and test sets)\n",
    "scaler = StandardScaler()\n",
    "X_train_scaled = scaler.fit_transform(X_train)\n",
    "X_val_scaled = scaler.transform(X_val)\n",
    "X_test_scaled = scaler.transform(X_test)\n",
    "\n",
    "# Convert to tensors\n",
    "X_train_tensor = torch.FloatTensor(X_train_scaled)\n",
    "y_train_tensor = torch.LongTensor(y_train)\n",
    "X_val_tensor = torch.FloatTensor(X_val_scaled)\n",
    "y_val_tensor = torch.LongTensor(y_val)\n",
    "X_test_tensor = torch.FloatTensor(X_test_scaled)\n",
    "y_test_tensor = torch.LongTensor(y_test)\n",
    "\n",
    "# Create datasets\n",
    "train_dataset = CustomDataset(X_train_tensor, y_train_tensor)\n",
    "val_dataset = CustomDataset(X_val_tensor, y_val_tensor)\n",
    "test_dataset = CustomDataset(X_test_tensor, y_test_tensor)\n",
    "\n",
    "# Data loaders for training, validation, and testing\n",
    "train_loader = DataLoader(train_dataset, batch_size=64, shuffle=True)\n",
    "val_loader = DataLoader(val_dataset, batch_size=64, shuffle=False)\n",
    "test_loader = DataLoader(test_dataset, batch_size=64, shuffle=False)\n"
   ]
  },
  {
   "cell_type": "markdown",
   "metadata": {},
   "source": [
    "### 1.2 Initialization and Training of Models"
   ]
  },
  {
   "cell_type": "code",
   "execution_count": 63,
   "metadata": {},
   "outputs": [],
   "source": [
    "from sklearn.metrics import accuracy_score"
   ]
  },
  {
   "cell_type": "markdown",
   "metadata": {},
   "source": [
    "**Fully Connected Neural Network**"
   ]
  },
  {
   "cell_type": "code",
   "execution_count": 64,
   "metadata": {},
   "outputs": [],
   "source": [
    "# We create an FCNN class that will define the structure of our Fully Connected Neural Network.\n",
    "# The FCNN has a property called 'input_size', instead of hardcoding it to be the number of features in the dataset.\n",
    "# This was done as we wanted to experiment with different sets of player statistics.\n",
    "\n",
    "class FCNN(nn.Module):\n",
    "    def __init__(self, input_size):\n",
    "        super(FCNN, self).__init__()         # The input size will be determined when the model is created\n",
    "        self.fc1 = nn.Linear(input_size, 64) # 64 neurons in the first hidden layer\n",
    "        self.fc2 = nn.Linear(64, 32)         # 32 neurons in the second hidden layer\n",
    "        self.fc3 = nn.Linear(32, 3)          # 3 neurons in the output layer, one for Home Win, Draw, and Away Win\n",
    "\n",
    "    def forward(self, x):                    # The forward function defines the forward pass of the model.\n",
    "        x = torch.relu(self.fc1(x))          # The activation function used is ReLU for all hiudden layers.\n",
    "        x = torch.relu(self.fc2(x))\n",
    "        x = self.fc3(x)                      # No activation function is applied to the output layer.\n",
    "                                             # Softmax can be used to get the probabilities for each class, had we more time to improve this experiment.\n",
    "        return x"
   ]
  },
  {
   "cell_type": "code",
   "execution_count": 65,
   "metadata": {},
   "outputs": [],
   "source": [
    "# The following are functions created to allow repeated training and validation of our different pytorch models.\n",
    "# This can be reused for different models and datasets based on the model and loader parameters.\n",
    "\n",
    "def train(model, criterion, optimizer, loader):\n",
    "    model.train()\n",
    "    running_loss = 0.0\n",
    "\n",
    "    # The training loop\n",
    "    for inputs, labels in loader:\n",
    "        optimizer.zero_grad()\n",
    "        outputs = model(inputs)\n",
    "        loss = criterion(outputs, labels)\n",
    "        loss.backward()\n",
    "        optimizer.step()\n",
    "        running_loss += loss.item()\n",
    "\n",
    "    return running_loss / len(loader)\n",
    "\n",
    "def validate(model, loader):\n",
    "    model.eval()\n",
    "    predictions, truths = [], []\n",
    "\n",
    "    # The validation loop\n",
    "    with torch.no_grad():\n",
    "        for inputs, labels in loader:\n",
    "            outputs = model(inputs)\n",
    "            _, predicted = torch.max(outputs.data, 1)\n",
    "            predictions.extend(predicted.cpu().numpy())\n",
    "            truths.extend(labels.cpu().numpy())\n",
    "            \n",
    "    accuracy = accuracy_score(truths, predictions)\n",
    "    return accuracy"
   ]
  },
  {
   "cell_type": "code",
   "execution_count": 66,
   "metadata": {},
   "outputs": [
    {
     "name": "stdout",
     "output_type": "stream",
     "text": [
      "Epoch 1 : New best model saved with validation accuracy: 0.5026\n",
      "Epoch 2 : New best model saved with validation accuracy: 0.5316\n",
      "Epoch 3 : New best model saved with validation accuracy: 0.5526\n",
      "Epoch 6 : New best model saved with validation accuracy: 0.5553\n"
     ]
    }
   ],
   "source": [
    "best_val_accuracy = 0.0\n",
    "best_model_state = None\n",
    "\n",
    "model = FCNN(input_size=X.shape[1])\n",
    "criterion = nn.CrossEntropyLoss()\n",
    "optimizer = optim.Adam(model.parameters(), lr=0.001)\n",
    "\n",
    "for epoch in range(1, 101): # We will train for 100 epochs\n",
    "\n",
    "    # Train and validate at every epoch\n",
    "    train_loss = train(model, criterion, optimizer, train_loader)\n",
    "    val_accuracy = validate(model, val_loader)\n",
    "\n",
    "    # Check if the current model's validation accuracy is the best, and save if it is currently the best one\n",
    "    if val_accuracy > best_val_accuracy:\n",
    "        best_val_accuracy = val_accuracy\n",
    "        best_model_state = model.state_dict()\n",
    "        print(f\"Epoch {epoch} : New best model saved with validation accuracy: {best_val_accuracy:.4f}\")\n",
    "\n",
    "torch.save(best_model_state, './models/fcnn_classification_best.pth')"
   ]
  },
  {
   "cell_type": "markdown",
   "metadata": {},
   "source": [
    "**Convolutional Neural Network**"
   ]
  },
  {
   "cell_type": "code",
   "execution_count": 67,
   "metadata": {},
   "outputs": [],
   "source": [
    "class TabularCNN(nn.Module):\n",
    "    def __init__(self, num_features):\n",
    "        super(TabularCNN, self).__init__()\n",
    "        self.conv1 = nn.Conv1d(in_channels=1, out_channels=16, kernel_size=3, stride=1, padding=1)\n",
    "        self.conv2 = nn.Conv1d(in_channels=16, out_channels=32, kernel_size=3, stride=1, padding=1)\n",
    "        \n",
    "        # A max pooling layer to reduce the dimensionality of the feature maps,\n",
    "        # using a kernel size of 2 and stride of 2, with no padding. This helps in reducing overfitting.\n",
    "        self.pool = nn.MaxPool1d(kernel_size=2, stride=2, padding=0)\n",
    "\n",
    "        def calculate_conv_output_size(input_size, kernel_size=3, stride=1, padding=1, pool_kernel=2, pool_stride=2):\n",
    "            # After convolution\n",
    "            output_size = (input_size - kernel_size + 2 * padding) / stride + 1\n",
    "            # After pooling\n",
    "            output_size = (output_size - pool_kernel) / pool_stride + 1\n",
    "            return int(output_size)\n",
    "\n",
    "        # The size of the feature vector expected by the first fully connected layer\n",
    "        size_after_first_conv = calculate_conv_output_size(num_features)\n",
    "        size_after_second_conv = calculate_conv_output_size(size_after_first_conv)\n",
    "\n",
    "        feature_size_after_conv = size_after_second_conv * 32\n",
    "\n",
    "        self.fc1 = nn.Linear(feature_size_after_conv, 64)\n",
    "\n",
    "        # The second FC layer reduces the feature dimension to just our needed outputs of 3 (Home Win, Draw, Away Win).\n",
    "        self.fc2 = nn.Linear(64, 3)\n",
    "\n",
    "    def forward(self, x):\n",
    "        x = x.unsqueeze(1)  # Add a channel dimension\n",
    "        \n",
    "        # Apply the first convolution, followed by ReLU and pooling\n",
    "        x = self.pool(torch.relu(self.conv1(x)))\n",
    "        \n",
    "        # Apply the second convolution, followed by ReLU and pooling\n",
    "        x = self.pool(torch.relu(self.conv2(x)))\n",
    "        \n",
    "        # Flatten the output for the fully connected layer\n",
    "        x = x.view(x.size(0), -1)\n",
    "        \n",
    "        # Fully connected layers with ReLU activations\n",
    "        x = torch.relu(self.fc1(x))\n",
    "        x = torch.relu(self.fc2(x))\n",
    "        \n",
    "        return x"
   ]
  },
  {
   "cell_type": "code",
   "execution_count": 68,
   "metadata": {},
   "outputs": [
    {
     "name": "stdout",
     "output_type": "stream",
     "text": [
      "Epoch 1 : New best model saved with validation accuracy: 0.4395\n",
      "Epoch 4 : New best model saved with validation accuracy: 0.5079\n",
      "Epoch 5 : New best model saved with validation accuracy: 0.5342\n"
     ]
    }
   ],
   "source": [
    "best_val_accuracy = 0.0\n",
    "best_model_state = None\n",
    "\n",
    "model = TabularCNN(num_features = X.shape[1])\n",
    "criterion = nn.CrossEntropyLoss()\n",
    "optimizer = optim.Adam(model.parameters(), lr=0.001)\n",
    "\n",
    "for epoch in range(1, 101): # We will train for 100 epochs\n",
    "\n",
    "    # Train and validate at every epoch\n",
    "    train_loss = train(model, criterion, optimizer, train_loader)\n",
    "    val_accuracy = validate(model, val_loader)\n",
    "\n",
    "    # Check if the current model's validation accuracy is the best, and save if it is currently the best one\n",
    "    if val_accuracy > best_val_accuracy:\n",
    "        best_val_accuracy = val_accuracy\n",
    "        best_model_state = model.state_dict()\n",
    "        print(f\"Epoch {epoch} : New best model saved with validation accuracy: {best_val_accuracy:.4f}\")\n",
    "\n",
    "torch.save(best_model_state, './models/tabular_cnn_classification_best.pth')"
   ]
  },
  {
   "cell_type": "markdown",
   "metadata": {},
   "source": [
    "**Support Vector Machine with Linear Kernel**"
   ]
  },
  {
   "cell_type": "code",
   "execution_count": 69,
   "metadata": {},
   "outputs": [],
   "source": [
    "from sklearn.svm import SVC\n",
    "import joblib\n",
    "\n",
    "parameter_grid = {'C': [0.0001, 0.0005, 0.001, 0.005, 0.01, 0.05, 0.1, 1, 10, 100]}"
   ]
  },
  {
   "cell_type": "code",
   "execution_count": 70,
   "metadata": {},
   "outputs": [
    {
     "name": "stdout",
     "output_type": "stream",
     "text": [
      "C=0.0001, Validation Accuracy=0.4394736842105263\n",
      "C=0.0005, Validation Accuracy=0.4394736842105263\n",
      "C=0.001, Validation Accuracy=0.4394736842105263\n",
      "C=0.005, Validation Accuracy=0.4394736842105263\n",
      "C=0.01, Validation Accuracy=0.4394736842105263\n",
      "C=0.05, Validation Accuracy=0.5263157894736842\n",
      "C=0.1, Validation Accuracy=0.5421052631578948\n",
      "C=1, Validation Accuracy=0.5210526315789473\n",
      "C=10, Validation Accuracy=0.5263157894736842\n",
      "C=100, Validation Accuracy=0.48947368421052634\n",
      "Best Model Parameters: {'C': 0.1}\n",
      "Best Validation Accuracy: 0.5421052631578948\n"
     ]
    }
   ],
   "source": [
    "best_val_accuracy = 0.0\n",
    "best_params = {}\n",
    "\n",
    "for C in parameter_grid['C']:\n",
    "    model = SVC(kernel='linear', C=C)\n",
    "    model.fit(X_train, y_train)\n",
    "    \n",
    "    # Predict and evaluate on the validation set\n",
    "    y_pred_val = model.predict(X_val_scaled)\n",
    "    val_accuracy = accuracy_score(y_val, y_pred_val)\n",
    "    \n",
    "    print(f\"C={C}, Validation Accuracy={val_accuracy}\")\n",
    "    \n",
    "    # Update the best model if it outperforms the previous ones\n",
    "    if val_accuracy > best_val_accuracy:\n",
    "        best_val_accuracy = val_accuracy\n",
    "        best_params = {'C': C}\n",
    "        # Save the model\n",
    "        joblib.dump(model, f'./models/best_svm_model_C={C}.pkl')\n",
    "\n",
    "print(\"Best Model Parameters:\", best_params)\n",
    "print(\"Best Validation Accuracy:\", best_val_accuracy)"
   ]
  },
  {
   "cell_type": "markdown",
   "metadata": {},
   "source": [
    "### 1.3 Model Evaluation"
   ]
  },
  {
   "cell_type": "code",
   "execution_count": 71,
   "metadata": {},
   "outputs": [],
   "source": [
    "from sklearn.metrics import confusion_matrix, precision_score, recall_score, f1_score\n",
    "import matplotlib.pyplot as plt\n",
    "import seaborn as sns"
   ]
  },
  {
   "cell_type": "code",
   "execution_count": 72,
   "metadata": {},
   "outputs": [],
   "source": [
    "def get_predictions(model, loader, device='cuda'):\n",
    "    model.eval()\n",
    "    model.to(device)\n",
    "    actuals = []\n",
    "    predictions = []\n",
    "\n",
    "    with torch.no_grad():\n",
    "        for features, labels in loader:\n",
    "            features, labels = features.to(device), labels.to(device)\n",
    "            outputs = model(features)\n",
    "            _, predicted = torch.max(outputs, 1)\n",
    "            actuals.extend(labels.cpu().numpy())\n",
    "            predictions.extend(predicted.cpu().numpy())\n",
    "            \n",
    "    return actuals, predictions\n",
    "\n",
    "def display_metrics(actuals, predictions, model_name, device = 'cuda'):\n",
    "    cm = confusion_matrix(actuals, predictions)\n",
    "    precision = precision_score(actuals, predictions, average='macro')\n",
    "    recall = recall_score(actuals, predictions, average='macro')\n",
    "    f1 = f1_score(actuals, predictions, average='macro')\n",
    "    \n",
    "    print(f\"Metrics for {model_name}:\")\n",
    "    print(f\"Precision: {precision:.4f}, Recall: {recall:.4f}, F1 Score: {f1:.4f}\")\n",
    "    \n",
    "    plt.figure(figsize=(8, 6))\n",
    "    sns.heatmap(cm, annot=True, fmt=\"d\", cmap=\"Blues\")\n",
    "    plt.title(f\"Confusion Matrix for {model_name}\")\n",
    "    plt.xlabel('Predicted Labels')\n",
    "    plt.ylabel('True Labels')\n",
    "    plt.show()"
   ]
  },
  {
   "cell_type": "code",
   "execution_count": 73,
   "metadata": {},
   "outputs": [],
   "source": [
    "def evaluate_model(model, loader, device='cuda'):\n",
    "    model.eval()\n",
    "    model.to(device)\n",
    "    correct = 0\n",
    "    total = 0\n",
    "\n",
    "    with torch.no_grad():\n",
    "        for features, labels in loader:\n",
    "            features, labels = features.to(device), labels.to(device)\n",
    "            outputs = model(features)\n",
    "            _, predicted = torch.max(outputs, 1)\n",
    "            total += labels.size(0)\n",
    "            correct += (predicted == labels).sum().item()\n",
    "    accuracy = correct / total\n",
    "    \n",
    "    return accuracy"
   ]
  },
  {
   "cell_type": "code",
   "execution_count": 75,
   "metadata": {},
   "outputs": [
    {
     "name": "stdout",
     "output_type": "stream",
     "text": [
      "  Model  Test Accuracy\n",
      "0   SVM       0.528947\n",
      "1   CNN       0.423684\n",
      "2  FCNN       0.418421\n"
     ]
    }
   ],
   "source": [
    "# Evaluate SVM Model\n",
    "svm_model = joblib.load('./models/best_svm_model.pkl')\n",
    "\n",
    "X_test_svm = []\n",
    "y_test_svm = []\n",
    "for features, labels in test_loader:\n",
    "    X_test_svm.extend(features.numpy())\n",
    "    y_test_svm.extend(labels.numpy())\n",
    "X_test_svm = np.array(X_test_svm)\n",
    "y_test_svm = np.array(y_test_svm)\n",
    "\n",
    "svm_predictions = svm_model.predict(X_test_svm)\n",
    "svm_accuracy = accuracy_score(y_test_svm, svm_predictions)\n",
    "\n",
    "# Evaluate FCNN Model\n",
    "fcnn_model = FCNN(input_size=X.shape[1])\n",
    "state_dict = torch.load('./models/fcnn_classification_best.pth')\n",
    "fcnn_model.load_state_dict(state_dict)\n",
    "fcnn_accuracy = evaluate_model(fcnn_model, test_loader)\n",
    "\n",
    "# Evaluate CNN Model\n",
    "cnn_model = TabularCNN(num_features=X.shape[1])\n",
    "state_dict = torch.load('./models/tabular_cnn_classification_best.pth')\n",
    "cnn_model.load_state_dict(state_dict)\n",
    "cnn_accuracy = evaluate_model(cnn_model, test_loader)\n",
    "\n",
    "# Display Accuracies\n",
    "accuracies = pd.DataFrame({\n",
    "    'Model': ['SVM', 'CNN', 'FCNN'],\n",
    "    'Test Accuracy': [svm_accuracy, cnn_accuracy, fcnn_accuracy]\n",
    "})\n",
    "\n",
    "print(accuracies)"
   ]
  },
  {
   "cell_type": "code",
   "execution_count": 76,
   "metadata": {},
   "outputs": [
    {
     "name": "stdout",
     "output_type": "stream",
     "text": [
      "Metrics for CNN:\n",
      "Precision: 0.4104, Recall: 0.4084, F1 Score: 0.4065\n"
     ]
    },
    {
     "data": {
      "image/png": "[encoded data removed]",
      "text/plain": [
       "<Figure size 800x600 with 2 Axes>"
      ]
     },
     "metadata": {},
     "output_type": "display_data"
    },
    {
     "name": "stdout",
     "output_type": "stream",
     "text": [
      "Metrics for FCNN:\n",
      "Precision: 0.3879, Recall: 0.3840, F1 Score: 0.3841\n"
     ]
    },
    {
     "data": {
      "image/png": "[encoded data removed]",
      "text/plain": [
       "<Figure size 800x600 with 2 Axes>"
      ]
     },
     "metadata": {},
     "output_type": "display_data"
    },
    {
     "name": "stdout",
     "output_type": "stream",
     "text": [
      "Metrics for SVM:\n",
      "Precision: 0.3535, Recall: 0.4386, F1 Score: 0.3858\n"
     ]
    },
    {
     "name": "stderr",
     "output_type": "stream",
     "text": [
      "c:\\Users\\hrzha\\AppData\\Local\\Programs\\Python\\Python310\\lib\\site-packages\\sklearn\\metrics\\_classification.py:1469: UndefinedMetricWarning: Precision is ill-defined and being set to 0.0 in labels with no predicted samples. Use `zero_division` parameter to control this behavior.\n",
      "  _warn_prf(average, modifier, msg_start, len(result))\n"
     ]
    },
    {
     "data": {
      "image/png": "[encoded data removed]",
      "text/plain": [
       "<Figure size 800x600 with 2 Axes>"
      ]
     },
     "metadata": {},
     "output_type": "display_data"
    }
   ],
   "source": [
    "for model, name in [(cnn_model, 'CNN'), (fcnn_model, 'FCNN')]:\n",
    "    actuals, predictions = get_predictions(model, test_loader)\n",
    "    display_metrics(actuals, predictions, name)\n",
    "\n",
    "svm_predictions = svm_model.predict(X_test_svm)\n",
    "display_metrics(y_test_svm, svm_predictions, 'SVM')"
   ]
  },
  {
   "cell_type": "markdown",
   "metadata": {},
   "source": [
    "# 2. Regression Models"
   ]
  },
  {
   "cell_type": "markdown",
   "metadata": {},
   "source": [
    "### 2.1 Split Data"
   ]
  },
  {
   "cell_type": "code",
   "execution_count": 79,
   "metadata": {},
   "outputs": [],
   "source": [
    "# This code is repeated from the classifcation section\n",
    "\n",
    "# Load and prepare the data\n",
    "# Home Gaol Difference is used in this section.\n",
    "data = pd.read_csv('final_dataset.csv')\n",
    "X = data.drop(['Match ID', 'Result', 'Home Goal Difference'], axis=1).values\n",
    "y = data['Home Goal Difference']\n",
    "\n",
    "# Split into train+val and test sets\n",
    "X_trainval, X_test, y_trainval, y_test = train_test_split(X, y, test_size=0.2, random_state=11)\n",
    "\n",
    "# Then split train+val into train and val sets\n",
    "X_train, X_val, y_train, y_val = train_test_split(X_trainval, y_trainval, test_size=0.25, random_state=11)\n",
    "\n",
    "# Scale features (fit on training data, then transform train, val, and test sets)\n",
    "scaler = StandardScaler()\n",
    "X_train_scaled = scaler.fit_transform(X_train)\n",
    "X_val_scaled = scaler.transform(X_val)\n",
    "X_test_scaled = scaler.transform(X_test)\n",
    "\n",
    "# Convert to tensors (note that y is now float and not long, as we are doing regression)\n",
    "X_train_tensor = torch.FloatTensor(X_train_scaled)\n",
    "y_train_tensor = torch.FloatTensor(y_train.values)\n",
    "X_val_tensor = torch.FloatTensor(X_val_scaled)\n",
    "y_val_tensor = torch.FloatTensor(y_val.values)\n",
    "X_test_tensor = torch.FloatTensor(X_test_scaled)\n",
    "y_test_tensor = torch.FloatTensor(y_test.values)\n",
    "\n",
    "# Create datasets\n",
    "train_dataset = CustomDataset(X_train_tensor, y_train_tensor)\n",
    "val_dataset = CustomDataset(X_val_tensor, y_val_tensor)\n",
    "test_dataset = CustomDataset(X_test_tensor, y_test_tensor)\n",
    "\n",
    "# Data loaders for training, validation, and testing\n",
    "train_loader = DataLoader(train_dataset, batch_size=64, shuffle=True)\n",
    "val_loader = DataLoader(val_dataset, batch_size=64, shuffle=False)\n",
    "test_loader = DataLoader(test_dataset, batch_size=64, shuffle=False)"
   ]
  },
  {
   "cell_type": "markdown",
   "metadata": {},
   "source": [
    "### 2.2 Initialize and Train Models"
   ]
  },
  {
   "cell_type": "markdown",
   "metadata": {},
   "source": [
    "**Fully Connected Neural Network**"
   ]
  },
  {
   "cell_type": "code",
   "execution_count": 80,
   "metadata": {},
   "outputs": [],
   "source": [
    "from sklearn.metrics import mean_squared_error\n",
    "from math import sqrt"
   ]
  },
  {
   "cell_type": "code",
   "execution_count": 84,
   "metadata": {},
   "outputs": [],
   "source": [
    "# Redeifine the FCNN model for regression\n",
    "\n",
    "class FCNN(nn.Module):\n",
    "    def __init__(self, input_size):\n",
    "        super(FCNN, self).__init__()\n",
    "        self.fc1 = nn.Linear(input_size, 64) \n",
    "        self.fc2 = nn.Linear(64, 32)         \n",
    "        self.fc3 = nn.Linear(32, 1)          # 1 neurons in the output layer, only for goal difference.\n",
    "\n",
    "    def forward(self, x):                    # The forward function defines the forward pass of the model.\n",
    "        x = torch.relu(self.fc1(x))          # The activation function used is ReLU for all hiudden layers.\n",
    "        x = torch.relu(self.fc2(x))\n",
    "        x = self.fc3(x)                      # No activation function is applied to the output layer.\n",
    "                                             # Softmax can be used to get the probabilities for each class, had we more time to improve this experiment.\n",
    "        return x"
   ]
  },
  {
   "cell_type": "code",
   "execution_count": 85,
   "metadata": {},
   "outputs": [],
   "source": [
    "# Redefinie train and validate functions for regression. The loss function is now Mean Squared Error.\n",
    "def train(model, criterion, optimizer, loader):\n",
    "\n",
    "    model.train()\n",
    "    running_loss = 0.0\n",
    "\n",
    "    for inputs, labels in loader:\n",
    "        optimizer.zero_grad()\n",
    "        outputs = model(inputs)\n",
    "        loss = criterion(outputs.squeeze(), labels)  # Adjust for the output dimension\n",
    "        loss.backward()\n",
    "        optimizer.step()\n",
    "        running_loss += loss.item()\n",
    "\n",
    "    return running_loss / len(loader)\n",
    "\n",
    "def validate(model, loader):\n",
    "\n",
    "    model.eval()\n",
    "    predictions, truths = [], []\n",
    "\n",
    "    with torch.no_grad():\n",
    "        for inputs, labels in loader:\n",
    "            outputs = model(inputs).squeeze()\n",
    "            predictions.extend(outputs.cpu().numpy())\n",
    "            truths.extend(labels.cpu().numpy())\n",
    "\n",
    "    mse = mean_squared_error(truths, predictions)\n",
    "    rmse = sqrt(mse)\n",
    "    return rmse"
   ]
  },
  {
   "cell_type": "code",
   "execution_count": 86,
   "metadata": {},
   "outputs": [
    {
     "name": "stdout",
     "output_type": "stream",
     "text": [
      "Epoch 1: New best model saved with validation RMSE: 1.8633\n",
      "Epoch 2: New best model saved with validation RMSE: 1.8192\n",
      "Epoch 3: New best model saved with validation RMSE: 1.7905\n",
      "Epoch 4: New best model saved with validation RMSE: 1.7889\n",
      "Epoch 6: New best model saved with validation RMSE: 1.7819\n"
     ]
    }
   ],
   "source": [
    "best_val_rmse = float('inf') # Initialize with infinity\n",
    "best_model_state = None\n",
    "\n",
    "model = FCNN(input_size=X_train_scaled.shape[1])\n",
    "criterion = nn.MSELoss() # Mean Squared Error Loss for regression\n",
    "optimizer = optim.Adam(model.parameters(), lr=0.001)\n",
    "\n",
    "for epoch in range(1, 101):\n",
    "    train_loss = train(model, criterion, optimizer, train_loader)\n",
    "    val_rmse = validate(model, val_loader)\n",
    "\n",
    "    if val_rmse < best_val_rmse:\n",
    "        best_val_rmse = val_rmse\n",
    "        best_model_state = model.state_dict()\n",
    "        print(f\"Epoch {epoch}: New best model saved with validation RMSE: {best_val_rmse:.4f}\")\n",
    "\n",
    "# Save the best model state to a file\n",
    "torch.save(best_model_state, './models/fcnn_regression_best_model.pth')"
   ]
  },
  {
   "cell_type": "markdown",
   "metadata": {},
   "source": [
    "**Convolutional Neural Network:**\n",
    "\n",
    "This was skipped since in the above classification section, we saw that the CNN did not meaningfully outperform the FCNN."
   ]
  },
  {
   "cell_type": "markdown",
   "metadata": {},
   "source": [
    "**Ridge Regression**"
   ]
  },
  {
   "cell_type": "code",
   "execution_count": 87,
   "metadata": {},
   "outputs": [
    {
     "name": "stdout",
     "output_type": "stream",
     "text": [
      "Fitting 5 folds for each of 20 candidates, totalling 100 fits\n",
      "Best parameters found: {'alpha': 1438.44988828766}\n",
      "Best RMSE from grid search: 1.7433263413051154\n"
     ]
    },
    {
     "data": {
      "text/plain": [
       "['./models/ridge_regression_best_model.pkl']"
      ]
     },
     "execution_count": 87,
     "metadata": {},
     "output_type": "execute_result"
    }
   ],
   "source": [
    "from sklearn.linear_model import Ridge\n",
    "from sklearn.model_selection import train_test_split, GridSearchCV\n",
    "\n",
    "model = Ridge()\n",
    "parameters = {'alpha': np.logspace(-4, 4, 20)}\n",
    "\n",
    "# Perform grid search\n",
    "grid_search = GridSearchCV(model, parameters, cv=5, scoring='neg_mean_squared_error', verbose=1)\n",
    "grid_search.fit(X_train_scaled, y_train)\n",
    "\n",
    "# Best parameters and model\n",
    "best_model = grid_search.best_estimator_\n",
    "print(\"Best parameters found:\", grid_search.best_params_)\n",
    "print(\"Best RMSE from grid search:\", np.sqrt(-grid_search.best_score_))\n",
    "\n",
    "# Save the best model\n",
    "joblib.dump(best_model, './models/ridge_regression_best_model.pkl')"
   ]
  },
  {
   "cell_type": "markdown",
   "metadata": {},
   "source": [
    "### 2.3 Model Evaluation"
   ]
  },
  {
   "cell_type": "code",
   "execution_count": 92,
   "metadata": {},
   "outputs": [],
   "source": [
    "def evaluate_model(model, data_loader):\n",
    "    model.eval()\n",
    "    predictions = []\n",
    "    actuals = []\n",
    "    \n",
    "    with torch.no_grad():\n",
    "        for inputs, targets in data_loader:\n",
    "            outputs = model(inputs)\n",
    "            predictions.extend(outputs.view(-1).tolist())  # Flatten the outputs and convert to list\n",
    "            actuals.extend(targets.view(-1).tolist())\n",
    "    \n",
    "    # Calculate RMSE\n",
    "    rmse = np.sqrt(mean_squared_error(actuals, predictions))\n",
    "    return rmse"
   ]
  },
  {
   "cell_type": "code",
   "execution_count": 94,
   "metadata": {},
   "outputs": [
    {
     "name": "stdout",
     "output_type": "stream",
     "text": [
      "Test RMSE, Ridge Regression: 1.686192550991023\n",
      "Test R^2, Ridge Regression: 0.18092008980302599\n",
      "Test MAE, Ridge Regression: 1.304157831599002\n",
      "Test RMSE, FCNN: 2.3143795124610405\n"
     ]
    }
   ],
   "source": [
    "from sklearn.metrics import mean_squared_error, r2_score, mean_absolute_error\n",
    "\n",
    "# Load and evaluate the Ridge regression model\n",
    "ridge_model = joblib.load('./models/ridge_regression_best_model.pkl')\n",
    "\n",
    "y_pred = best_model.predict(X_test_scaled)\n",
    "test_rmse = np.sqrt(mean_squared_error(y_test, y_pred))\n",
    "print(\"Test RMSE, Ridge Regression:\", test_rmse)\n",
    "\n",
    "test_r2 = r2_score(y_test, y_pred)\n",
    "print(\"Test R^2, Ridge Regression:\", test_r2)\n",
    "\n",
    "test_mae = mean_absolute_error(y_test, y_pred)\n",
    "print(\"Test MAE, Ridge Regression:\", test_mae)\n",
    "\n",
    "# Evaluate FCNN Model\n",
    "fcnn_model = FCNN(input_size=X.shape[1])\n",
    "state_dict = torch.load('./models/fcnn_regression_best_model.pth')\n",
    "fcnn_model.load_state_dict(state_dict)\n",
    "fcnn_rmse = evaluate_model(fcnn_model, test_loader)\n",
    "print(\"Test RMSE, FCNN:\", fcnn_rmse)"
   ]
  }
 ],
 "metadata": {
  "kernelspec": {
   "display_name": "Python 3",
   "language": "python",
   "name": "python3"
  },
  "language_info": {
   "codemirror_mode": {
    "name": "ipython",
    "version": 3
   },
   "file_extension": ".py",
   "mimetype": "text/x-python",
   "name": "python",
   "nbconvert_exporter": "python",
   "pygments_lexer": "ipython3",
   "version": "3.10.6"
  }
 },
 "nbformat": 4,
 "nbformat_minor": 2
}
