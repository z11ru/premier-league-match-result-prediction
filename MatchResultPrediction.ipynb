{
 "cells": [
  {
   "cell_type": "markdown",
   "metadata": {},
   "source": [
    "## Pitch Predict: English Premier League Match Results Prediction"
   ]
  },
  {
   "cell_type": "markdown",
   "metadata": {},
   "source": [
    "## Introduction\n",
    "\n",
    "In this project, we compare the performance of many Machine Learning and Deep Learning strategies and models to predict the outcomes of English Premier League soccer matches based on the average player performance of both teams from the previous season (mormalized by minutes played). We have two targets for prediction: the result (Home Win, Away Win, or Draw), as well as the Goal Difference for the home team (home goals - away goals). This allows us to perform both classification and regression, to have a greater chance at discovering the best predictor model possible.\n",
    "\n",
    "The goal is to have the best model (that is within our means to achieve) to **predict the result of an EPL match based only on the team sheets (player list) for the Home and Away teams.** This could be useful for betting, fantasy sports, or other applications where predicting the outcome of a match based on limited, but fast and readily available information is important.\n",
    "\n",
    "Both traditional machine learning and basic deep learning techniques will be used. To ensure a rigorous assessment, we will employ pipelines for hyperparameter tuning, and k-fold cross-validation for validating model performance. We will also create different neural network models, such as a basic fully connected NN, an Tabular CNN, or other neural network strategies, and compare their accuracy metrics. This methodology will give us an exhaustive exploration of a wide array of models for the selection of a model that best captures the match outcomes."
   ]
  },
  {
   "cell_type": "markdown",
   "metadata": {},
   "source": [
    "### Data Sources\n",
    "*Click to follow links.*\n",
    "\n",
    "Match Statistics: [matches.jsonl](https://www.kaggle.com/datasets/hugomathien/soccer/data) and [players.csv](https://www.kaggle.com/datasets/hugomathien/soccer/data)\n",
    "\n",
    "Player Statistics: [All Files in player_statistics folder](https://www.kaggle.com/datasets/davidantonioteixeira/premier-league-player-statistics-1992-2022?resource=download)\n"
   ]
  },
  {
   "cell_type": "markdown",
   "metadata": {},
   "source": [
    "### Training Data Construction\n",
    "\n",
    "The datasets downloaded from the links above each contain part of, but not the entire, data required for training a machine learning model for our purposes. The `matches.jsonl` file contains match data, while the `players.csv` file contains information to map player names with player ids. The player statistics files contain player data, but separated across different seasons and for different statistics.\n",
    "\n",
    "The dataset construction process involves several key steps: merging player data, merging match data, mapping player names to IDs, and finally creating a unified dataset for ML training. Each step is encapsulated in a Python script, executed sequentially to ensure data integrity and alignment.\n",
    "\n",
    "**Merging Player Data `(merge_player_data.py)`**\n",
    "\n",
    "Individual CSV files containing player statistics are read from the ./player_statistics directory one at a time in a for loop.\n",
    "Columns not relevant to the analysis ('Rank', 'Club', 'Nationality') are removed.\n",
    "A unified DataFrame is created by merging individual DataFrames on 'Initial Year' and 'Player'. 'Initial Year' is the year the for which the player statistics are calculated - it represents the start of the Premier League season. However, since we want to predict match results based on player stats from the previous season, we need to align the player data with the match data accordingly. \n",
    "- <span style = \"color:blue\"> This is achieved by adding 1 to all values in the initial year column. </span> This way, the player data for what was originally the 2020 season is now aligned with the match data for the 2021 season, and so on.\n",
    "- <span style=\"color:blue\">Missing 'Minutes Played' values are filled with the column mean.</span>\n",
    "- <span style=\"color:blue\">All statistics are normalized by minutes played for each player.</span>\n",
    "\n",
    "**Merging Match Data `(merge_match_data.py)`**\n",
    "\n",
    "The script reads a JSONL file (matches.jsonl), dropping entries not pertaining to the English league (`league == en`). For each line in the input file, the script reads and parses the JSON object representing a match's statistics. It constructs a row for each match that includes the match ID, year, home and away goals, and identifiers for every player (starting and substitutes) from both home and away teams. These rows are written to the output CSV file, effectively transforming and merging the JSON Lines data into a structured CSV format to merge with player data above.\n",
    "\n",
    "**Map Players to Matches `(map_player_to_id.py)`**\n",
    "\n",
    "The players in player_data are identified using names, and for match data, they are identified using numerical IDs. This script maps player names to player IDs. The players.csv contains the names and IDs of players, but some are referred only by their nicknames. This script matches either full names or nicknames to player IDs.\n",
    "\n",
    "**Create Training Data `(create_final_csv.py)`**\n",
    "\n",
    "The final step in the data construction process is to merge the player and match data. The script gathers all players for either team and calculates the mean value for each statistic across all players for that team based on their *previous* season. The final csv file contains the features Average_Home_Goals_Per_Minute_Played, Average_Away_Assists_Per_Minute_Played, etc. for each match along with the final match result (Home Win, represented as 1, Away Win, represented as -1, and Draw, represented as 0). In hindsight, the mapping should have been 0, 1, and 2. This is fixed below. The Home Goal Difference is also calculated as the difference between home and away goals. We have 2 target vectors (only one will be used for each model, obviously). But we now can compare performance of classification versus regression."
   ]
  },
  {
   "cell_type": "markdown",
   "metadata": {},
   "source": [
    "# 1. Classification Models"
   ]
  },
  {
   "cell_type": "code",
   "execution_count": 135,
   "metadata": {},
   "outputs": [],
   "source": [
    "import torch\n",
    "import torch.nn as nn\n",
    "import torch.optim as optim\n",
    "from torch.utils.data import DataLoader, Dataset, TensorDataset, Subset, random_split\n",
    "from sklearn.model_selection import KFold\n",
    "from sklearn.preprocessing import StandardScaler\n",
    "import pandas as pd\n",
    "import numpy as np"
   ]
  },
  {
   "cell_type": "markdown",
   "metadata": {},
   "source": [
    "### 1.1 Data Splitting\n"
   ]
  },
  {
   "cell_type": "code",
   "execution_count": 136,
   "metadata": {},
   "outputs": [],
   "source": [
    "class CustomDataset(Dataset):\n",
    "    def __init__(self, features, labels):\n",
    "        self.features = features\n",
    "        self.labels = labels\n",
    "\n",
    "    def __len__(self):\n",
    "        return len(self.labels)\n",
    "\n",
    "    def __getitem__(self, idx):\n",
    "        return self.features[idx], self.labels[idx]\n",
    "\n",
    "# Load and prepare the data\n",
    "data = pd.read_csv('final_dataset.csv')\n",
    "X = data.drop(['Match ID', 'Result', 'Home Goal Difference'], axis=1).values\n",
    "y = data['Result'].map({-1: 0, 0: 1, 1: 2}).values  # Convert class labels from -1, 0, 1 to 0, 1, 2\n",
    "\n",
    "# Scale features\n",
    "scaler = StandardScaler()\n",
    "X_scaled = scaler.fit_transform(X)\n",
    "\n",
    "# Convert to tensors\n",
    "X_tensor = torch.FloatTensor(X_scaled)\n",
    "y_tensor = torch.LongTensor(y)\n",
    "\n",
    "# Create custom dataset\n",
    "dataset = CustomDataset(X_tensor, y_tensor)\n",
    "\n",
    "# Define k-fold cross-validation\n",
    "k_folds = 5\n",
    "kfold = KFold(n_splits=k_folds, shuffle=True, random_state=11)\n",
    "\n",
    "for fold, (trainval_ids, test_ids) in enumerate(kfold.split(X_tensor)):\n",
    "    # Create data subsets for training+validation and testing\n",
    "    trainval_subsampler = Subset(dataset, trainval_ids)\n",
    "    test_subsampler = Subset(dataset, test_ids)\n",
    "    \n",
    "    # Further split training+validation subset into training and validation sets\n",
    "    validation_split = 0.2\n",
    "    n_trainval = len(trainval_subsampler)\n",
    "    n_train = int((1 - validation_split) * n_trainval)\n",
    "    n_val = n_trainval - n_train\n",
    "    train_subsampler, val_subsampler = random_split(trainval_subsampler, [n_train, n_val])\n",
    "\n",
    "    # Define data loaders for training, validation, and testing data in this fold\n",
    "    train_loader = DataLoader(train_subsampler, batch_size=64, shuffle=True)\n",
    "    val_loader = DataLoader(val_subsampler, batch_size=64, shuffle=False)\n",
    "    test_loader = DataLoader(test_subsampler, batch_size=64, shuffle=False)\n"
   ]
  },
  {
   "cell_type": "markdown",
   "metadata": {},
   "source": [
    "### 1.2 Initialization and Training of Models"
   ]
  },
  {
   "cell_type": "code",
   "execution_count": 137,
   "metadata": {},
   "outputs": [],
   "source": [
    "from sklearn.metrics import accuracy_score"
   ]
  },
  {
   "cell_type": "markdown",
   "metadata": {},
   "source": [
    "**Fully Connected Neural Network**"
   ]
  },
  {
   "cell_type": "code",
   "execution_count": 138,
   "metadata": {},
   "outputs": [],
   "source": [
    "class FCNN(nn.Module):\n",
    "    def __init__(self, input_size):\n",
    "        super(FCNN, self).__init__()\n",
    "        self.fc1 = nn.Linear(input_size, 64)\n",
    "        self.fc2 = nn.Linear(64, 32)\n",
    "        self.fc3 = nn.Linear(32, 3)\n",
    "\n",
    "    def forward(self, x):\n",
    "        x = torch.relu(self.fc1(x))\n",
    "        x = torch.relu(self.fc2(x))\n",
    "        x = self.fc3(x)\n",
    "        return x"
   ]
  },
  {
   "cell_type": "code",
   "execution_count": 139,
   "metadata": {},
   "outputs": [],
   "source": [
    "def train(model, criterion, optimizer, loader):\n",
    "    \"\"\"Training loop.\"\"\"\n",
    "    model.train()\n",
    "    running_loss = 0.0\n",
    "    for inputs, labels in loader:\n",
    "        optimizer.zero_grad()\n",
    "        outputs = model(inputs)\n",
    "        loss = criterion(outputs, labels)\n",
    "        loss.backward()\n",
    "        optimizer.step()\n",
    "        running_loss += loss.item()\n",
    "    return running_loss / len(loader)\n",
    "\n",
    "def validate(model, loader):\n",
    "    \"\"\"Validation loop.\"\"\"\n",
    "    model.eval()\n",
    "    predictions, truths = [], []\n",
    "    with torch.no_grad():\n",
    "        for inputs, labels in loader:\n",
    "            outputs = model(inputs)\n",
    "            _, predicted = torch.max(outputs.data, 1)\n",
    "            predictions.extend(predicted.cpu().numpy())\n",
    "            truths.extend(labels.cpu().numpy())\n",
    "    accuracy = accuracy_score(truths, predictions)\n",
    "    return accuracy"
   ]
  },
  {
   "cell_type": "code",
   "execution_count": 140,
   "metadata": {},
   "outputs": [
    {
     "name": "stdout",
     "output_type": "stream",
     "text": [
      "Fold 1\n",
      "New best model across folds saved with validation accuracy: 0.4441\n",
      "New best model across folds saved with validation accuracy: 0.4934\n",
      "New best model across folds saved with validation accuracy: 0.5263\n",
      "New best model across folds saved with validation accuracy: 0.5362\n"
     ]
    },
    {
     "name": "stdout",
     "output_type": "stream",
     "text": [
      "New best model across folds saved with validation accuracy: 0.5395\n",
      "Fold 2\n",
      "Fold 3\n",
      "Fold 4\n",
      "Fold 5\n"
     ]
    }
   ],
   "source": [
    "best_val_accuracy_across_folds = 0.0\n",
    "best_model_state = None\n",
    "\n",
    "for fold, (trainval_ids, test_ids) in enumerate(kfold.split(dataset)):\n",
    "    print(f\"Fold {fold+1}\")\n",
    "\n",
    "    model = FCNN(input_size=X.shape[1])\n",
    "    criterion = nn.CrossEntropyLoss()\n",
    "    optimizer = optim.Adam(model.parameters(), lr=0.001)\n",
    "\n",
    "    for epoch in range(1, 101):\n",
    "        train_loss = train(model, criterion, optimizer, train_loader)\n",
    "        val_accuracy = validate(model, val_loader)\n",
    "\n",
    "        if val_accuracy > best_val_accuracy_across_folds:\n",
    "            best_val_accuracy_across_folds = val_accuracy\n",
    "            best_model_state = model.state_dict()\n",
    "\n",
    "            print(f\"New best model across folds saved with validation accuracy: {best_val_accuracy_across_folds:.4f}\")\n",
    "\n",
    "torch.save(best_model_state, './models/fcnn_best_all_folds.pth')"
   ]
  },
  {
   "cell_type": "markdown",
   "metadata": {},
   "source": [
    "**Convolutional Neural Network**"
   ]
  },
  {
   "cell_type": "code",
   "execution_count": 141,
   "metadata": {},
   "outputs": [],
   "source": [
    "class TabularCNN(nn.Module):\n",
    "    def __init__(self, num_features):\n",
    "        super(TabularCNN, self).__init__()\n",
    "        self.conv1 = nn.Conv1d(in_channels=1, out_channels=16, kernel_size=3, stride=1, padding=1)\n",
    "        self.conv2 = nn.Conv1d(in_channels=16, out_channels=32, kernel_size=3, stride=1, padding=1)\n",
    "        self.pool = nn.MaxPool1d(kernel_size=2, stride=2, padding=0)\n",
    "\n",
    "        feature_size_after_conv = num_features\n",
    "\n",
    "        self.fc1 = nn.Linear(feature_size_after_conv, 128)\n",
    "        self.fc2 = nn.Linear(128, 3)\n",
    "\n",
    "    def forward(self, x):\n",
    "        x = torch.relu(self.fc1(x))\n",
    "        x = torch.relu(self.fc2(x))\n",
    "        return x\n"
   ]
  },
  {
   "cell_type": "code",
   "execution_count": 142,
   "metadata": {},
   "outputs": [
    {
     "name": "stdout",
     "output_type": "stream",
     "text": [
      "Fold 1\n",
      "New best model across folds saved with validation accuracy: 0.4967\n",
      "New best model across folds saved with validation accuracy: 0.5066\n",
      "New best model across folds saved with validation accuracy: 0.5230\n",
      "New best model across folds saved with validation accuracy: 0.5296\n",
      "Fold 2\n",
      "New best model across folds saved with validation accuracy: 0.5428\n",
      "Fold 3\n",
      "Fold 4\n",
      "Fold 5\n",
      "New best model across folds saved with validation accuracy: 0.5461\n"
     ]
    }
   ],
   "source": [
    "best_val_accuracy_across_folds = 0.0\n",
    "best_model_state = None\n",
    "\n",
    "for fold, (trainval_ids, test_ids) in enumerate(kfold.split(dataset)):\n",
    "    print(f\"Fold {fold+1}\")\n",
    "\n",
    "    model = TabularCNN(num_features=X.shape[1])\n",
    "\n",
    "    criterion = nn.CrossEntropyLoss()\n",
    "    optimizer = optim.Adam(model.parameters(), lr=0.001)\n",
    "\n",
    "    for epoch in range(1, 101):\n",
    "        train_loss = train(model, criterion, optimizer, train_loader)\n",
    "        val_accuracy = validate(model, val_loader)\n",
    "\n",
    "        if val_accuracy > best_val_accuracy_across_folds:\n",
    "            best_val_accuracy_across_folds = val_accuracy\n",
    "            best_model_state = model.state_dict()\n",
    "\n",
    "            print(f\"New best model across folds saved with validation accuracy: {best_val_accuracy_across_folds:.4f}\")\n",
    "\n",
    "torch.save(best_model_state, './models/cnn_best_all_folds.pth')"
   ]
  },
  {
   "cell_type": "markdown",
   "metadata": {},
   "source": [
    "**Support Vector Machine with Linear Kernel**"
   ]
  },
  {
   "cell_type": "code",
   "execution_count": 143,
   "metadata": {},
   "outputs": [],
   "source": [
    "from sklearn.svm import SVC\n",
    "\n",
    "parameter_grid = {'C': [0.0001, 0.0005, 0.001, 0.005, 0.01, 0.05, 0.1]}"
   ]
  },
  {
   "cell_type": "code",
   "execution_count": 144,
   "metadata": {},
   "outputs": [
    {
     "name": "stdout",
     "output_type": "stream",
     "text": [
      "C=0.0001, Validation Accuracy=0.43894736842105264\n",
      "C=0.0005, Validation Accuracy=0.5331578947368422\n",
      "C=0.001, Validation Accuracy=0.5336842105263158\n",
      "C=0.005, Validation Accuracy=0.5368421052631579\n",
      "C=0.01, Validation Accuracy=0.5347368421052632\n",
      "C=0.05, Validation Accuracy=0.5268421052631579\n",
      "C=0.1, Validation Accuracy=0.5273684210526317\n",
      "Best Model Parameters: {'C': 0.005}\n",
      "Best Validation Accuracy: 0.5368421052631579\n"
     ]
    }
   ],
   "source": [
    "best_val_accuracy = 0.0\n",
    "best_params = {}\n",
    "\n",
    "kfold = KFold(n_splits=5, shuffle=True, random_state=11)\n",
    "\n",
    "for C in parameter_grid['C']:\n",
    "    val_accuracies = []\n",
    "    for train_ids, val_ids in kfold.split(X_scaled):\n",
    "        # Split data\n",
    "        X_train, X_val = X_scaled[train_ids], X_scaled[val_ids]\n",
    "        y_train, y_val = y[train_ids], y[val_ids]\n",
    "        \n",
    "        # Initialize and train the SVM model\n",
    "        model = SVC(kernel='linear', C=C)\n",
    "        model.fit(X_train, y_train)\n",
    "        \n",
    "        # Predict and evaluate\n",
    "        y_pred = model.predict(X_val)\n",
    "        accuracy = accuracy_score(y_val, y_pred)\n",
    "        val_accuracies.append(accuracy)\n",
    "    \n",
    "    # Average accuracy for this parameter setting\n",
    "    avg_val_accuracy = np.mean(val_accuracies)\n",
    "    print(f\"C={C}, Validation Accuracy={avg_val_accuracy}\")\n",
    "    \n",
    "    # Update best model if it outperforms previous ones\n",
    "    if avg_val_accuracy > best_val_accuracy:\n",
    "        best_val_accuracy = avg_val_accuracy\n",
    "        best_params = {'C': C}\n",
    "        # Save the model\n",
    "        joblib.dump(model, f'./models/best_svm_model.pkl')\n",
    "\n",
    "print(\"Best Model Parameters:\", best_params)\n",
    "print(\"Best Validation Accuracy:\", best_val_accuracy)"
   ]
  },
  {
   "cell_type": "markdown",
   "metadata": {},
   "source": [
    "### 1.3 Model Evaluation"
   ]
  },
  {
   "cell_type": "code",
   "execution_count": 145,
   "metadata": {},
   "outputs": [],
   "source": [
    "from sklearn.metrics import confusion_matrix, precision_score, recall_score, f1_score\n",
    "import matplotlib.pyplot as plt\n",
    "import seaborn as sns"
   ]
  },
  {
   "cell_type": "code",
   "execution_count": 146,
   "metadata": {},
   "outputs": [],
   "source": [
    "def get_predictions(model, loader, device='cuda'):\n",
    "    model.eval()\n",
    "    model.to(device)\n",
    "    actuals = []\n",
    "    predictions = []\n",
    "    with torch.no_grad():\n",
    "        for features, labels in loader:\n",
    "            features, labels = features.to(device), labels.to(device)\n",
    "            outputs = model(features)\n",
    "            _, predicted = torch.max(outputs, 1)\n",
    "            actuals.extend(labels.cpu().numpy())\n",
    "            predictions.extend(predicted.cpu().numpy())\n",
    "    return actuals, predictions\n",
    "\n",
    "def display_metrics(actuals, predictions, model_name, device = 'cuda'):\n",
    "    cm = confusion_matrix(actuals, predictions)\n",
    "    precision = precision_score(actuals, predictions, average='macro')\n",
    "    recall = recall_score(actuals, predictions, average='macro')\n",
    "    f1 = f1_score(actuals, predictions, average='macro')\n",
    "    \n",
    "    print(f\"Metrics for {model_name}:\")\n",
    "    print(f\"Precision: {precision:.4f}, Recall: {recall:.4f}, F1 Score: {f1:.4f}\")\n",
    "    \n",
    "    plt.figure(figsize=(8, 6))\n",
    "    sns.heatmap(cm, annot=True, fmt=\"d\", cmap=\"Blues\")\n",
    "    plt.title(f\"Confusion Matrix for {model_name}\")\n",
    "    plt.xlabel('Predicted Labels')\n",
    "    plt.ylabel('True Labels')\n",
    "    plt.show()"
   ]
  },
  {
   "cell_type": "code",
   "execution_count": 147,
   "metadata": {},
   "outputs": [],
   "source": [
    "def evaluate_model(model, loader, device='cuda'):\n",
    "    model.eval()\n",
    "    model.to(device)\n",
    "    correct = 0\n",
    "    total = 0\n",
    "    with torch.no_grad():\n",
    "        for features, labels in loader:\n",
    "            features, labels = features.to(device), labels.to(device)\n",
    "            outputs = model(features)\n",
    "            _, predicted = torch.max(outputs, 1)\n",
    "            total += labels.size(0)\n",
    "            correct += (predicted == labels).sum().item()\n",
    "    accuracy = correct / total\n",
    "    return accuracy"
   ]
  },
  {
   "cell_type": "code",
   "execution_count": 148,
   "metadata": {},
   "outputs": [
    {
     "name": "stdout",
     "output_type": "stream",
     "text": [
      "  Model  Test Accuracy\n",
      "0   SVM       0.539474\n",
      "1   CNN       0.471053\n",
      "2  FCNN       0.455263\n"
     ]
    }
   ],
   "source": [
    "# Evaluate SVM Model\n",
    "svm_model = joblib.load('./models/best_svm_model.pkl')\n",
    "\n",
    "X_test_svm = []\n",
    "y_test_svm = []\n",
    "for features, labels in test_loader:\n",
    "    X_test_svm.extend(features.numpy())\n",
    "    y_test_svm.extend(labels.numpy())\n",
    "X_test_svm = np.array(X_test_svm)\n",
    "y_test_svm = np.array(y_test_svm)\n",
    "\n",
    "svm_predictions = svm_model.predict(X_test_svm)\n",
    "svm_accuracy = accuracy_score(y_test_svm, svm_predictions)\n",
    "\n",
    "# Evaluate CNN Model\n",
    "cnn_model = TabularCNN(num_features=X.shape[1])\n",
    "state_dict = torch.load('./models/cnn_best_all_folds.pth')\n",
    "cnn_model.load_state_dict(state_dict)\n",
    "cnn_accuracy = evaluate_model(cnn_model, test_loader)\n",
    "\n",
    "# Evaluate FCNN Model\n",
    "fcnn_model = FCNN(input_size=X.shape[1])\n",
    "state_dict = torch.load('./models/fcnn_best_all_folds.pth')\n",
    "fcnn_model.load_state_dict(state_dict)\n",
    "fcnn_accuracy = evaluate_model(fcnn_model, test_loader)\n",
    "\n",
    "# Display Accuracies\n",
    "accuracies = pd.DataFrame({\n",
    "    'Model': ['SVM', 'CNN', 'FCNN'],\n",
    "    'Test Accuracy': [svm_accuracy, cnn_accuracy, fcnn_accuracy]\n",
    "})\n",
    "\n",
    "print(accuracies)\n",
    "\n"
   ]
  },
  {
   "cell_type": "code",
   "execution_count": 149,
   "metadata": {},
   "outputs": [
    {
     "name": "stdout",
     "output_type": "stream",
     "text": [
      "Metrics for CNN:\n",
      "Precision: 0.4255, Recall: 0.4349, F1 Score: 0.4239\n"
     ]
    },
    {
     "data": {
      "image/png": "[encoded data removed]",
      "text/plain": [
       "<Figure size 800x600 with 2 Axes>"
      ]
     },
     "metadata": {},
     "output_type": "display_data"
    },
    {
     "name": "stdout",
     "output_type": "stream",
     "text": [
      "Metrics for FCNN:\n",
      "Precision: 0.4165, Recall: 0.4209, F1 Score: 0.4148\n"
     ]
    },
    {
     "data": {
      "image/png": "[encoded data removed]",
      "text/plain": [
       "<Figure size 800x600 with 2 Axes>"
      ]
     },
     "metadata": {},
     "output_type": "display_data"
    },
    {
     "name": "stdout",
     "output_type": "stream",
     "text": [
      "Metrics for SVM:\n",
      "Precision: 0.3533, Recall: 0.4690, F1 Score: 0.4028\n"
     ]
    },
    {
     "name": "stderr",
     "output_type": "stream",
     "text": [
      "c:\\Users\\hrzha\\AppData\\Local\\Programs\\Python\\Python310\\lib\\site-packages\\sklearn\\metrics\\_classification.py:1469: UndefinedMetricWarning: Precision is ill-defined and being set to 0.0 in labels with no predicted samples. Use `zero_division` parameter to control this behavior.\n",
      "  _warn_prf(average, modifier, msg_start, len(result))\n"
     ]
    },
    {
     "data": {
      "image/png": "[encoded data removed]",
      "text/plain": [
       "<Figure size 800x600 with 2 Axes>"
      ]
     },
     "metadata": {},
     "output_type": "display_data"
    }
   ],
   "source": [
    "for model, name in [(cnn_model, 'CNN'), (fcnn_model, 'FCNN')]:\n",
    "    actuals, predictions = get_predictions(model, test_loader)\n",
    "    display_metrics(actuals, predictions, name)\n",
    "\n",
    "svm_predictions = svm_model.predict(X_test_svm)\n",
    "display_metrics(y_test_svm, svm_predictions, 'SVM')"
   ]
  },
  {
   "cell_type": "markdown",
   "metadata": {},
   "source": [
    "# 2. Regression Models"
   ]
  },
  {
   "cell_type": "markdown",
   "metadata": {},
   "source": [
    "### 2.1 Split Data"
   ]
  },
  {
   "cell_type": "code",
   "execution_count": 150,
   "metadata": {},
   "outputs": [],
   "source": [
    "# Load and prepare the data\n",
    "data = pd.read_csv('final_dataset.csv')\n",
    "X = data.drop(['Match ID', 'Result', 'Home Goal Difference'], axis=1).values\n",
    "y = data['Home Goal Difference'].values\n",
    "\n",
    "# Scale features\n",
    "scaler = StandardScaler()\n",
    "X_scaled = scaler.fit_transform(X)\n",
    "\n",
    "# Convert to tensors\n",
    "X_tensor = torch.FloatTensor(X_scaled)\n",
    "y_tensor = torch.FloatTensor(y)\n",
    "\n",
    "# Create custom dataset\n",
    "dataset = CustomDataset(X_tensor, y_tensor)\n",
    "\n",
    "# Define k-fold cross-validation\n",
    "k_folds = 5\n",
    "kfold = KFold(n_splits=k_folds, shuffle=True, random_state=11)\n",
    "\n",
    "for fold, (trainval_ids, test_ids) in enumerate(kfold.split(X_tensor)):\n",
    "    # Create data subsets for training+validation and testing\n",
    "    trainval_subsampler = Subset(dataset, trainval_ids)\n",
    "    test_subsampler = Subset(dataset, test_ids)\n",
    "    \n",
    "    # Further split training+validation subset into training and validation sets\n",
    "    validation_split = 0.2\n",
    "    n_trainval = len(trainval_subsampler)\n",
    "    n_train = int((1 - validation_split) * n_trainval)\n",
    "    n_val = n_trainval - n_train\n",
    "    train_subsampler, val_subsampler = random_split(trainval_subsampler, [n_train, n_val])\n",
    "\n",
    "    # Define data loaders for training, validation, and testing data in this fold\n",
    "    train_loader = DataLoader(train_subsampler, batch_size=64, shuffle=True)\n",
    "    val_loader = DataLoader(val_subsampler, batch_size=64, shuffle=False)\n",
    "    test_loader = DataLoader(test_subsampler, batch_size=64, shuffle=False)"
   ]
  },
  {
   "cell_type": "markdown",
   "metadata": {},
   "source": [
    "### 2.2 Initialize and Train Models"
   ]
  },
  {
   "cell_type": "markdown",
   "metadata": {},
   "source": [
    "**Fully Connected Neural Network**"
   ]
  },
  {
   "cell_type": "code",
   "execution_count": 151,
   "metadata": {},
   "outputs": [],
   "source": [
    "from sklearn.metrics import mean_squared_error\n",
    "from math import sqrt"
   ]
  },
  {
   "cell_type": "code",
   "execution_count": 152,
   "metadata": {},
   "outputs": [],
   "source": [
    "# Redeifine the FCNN model for regression\n",
    "class FCNN(nn.Module):\n",
    "    def __init__(self, input_size):\n",
    "        super(FCNN, self).__init__()\n",
    "        self.fc1 = nn.Linear(input_size, 64)\n",
    "        self.fc2 = nn.Linear(64, 32)\n",
    "        self.fc3 = nn.Linear(32, 1)  # Only one output neuron for regression\n",
    "\n",
    "    def forward(self, x):\n",
    "        x = torch.relu(self.fc1(x))\n",
    "        x = torch.relu(self.fc2(x))\n",
    "        x = self.fc3(x)  # No activation function for the output layer in regression\n",
    "        return x"
   ]
  },
  {
   "cell_type": "code",
   "execution_count": 153,
   "metadata": {},
   "outputs": [],
   "source": [
    "def train(model, criterion, optimizer, loader):\n",
    "    \"\"\"Training loop for regression.\"\"\"\n",
    "    model.train()\n",
    "    running_loss = 0.0\n",
    "    for inputs, labels in loader:\n",
    "        optimizer.zero_grad()\n",
    "        outputs = model(inputs)\n",
    "        loss = criterion(outputs.squeeze(), labels)  # Adjust for the output dimension\n",
    "        loss.backward()\n",
    "        optimizer.step()\n",
    "        running_loss += loss.item()\n",
    "    return running_loss / len(loader)\n",
    "\n",
    "def validate(model, loader):\n",
    "    \"\"\"Validation loop for regression.\"\"\"\n",
    "    model.eval()\n",
    "    predictions, truths = [], []\n",
    "    with torch.no_grad():\n",
    "        for inputs, labels in loader:\n",
    "            outputs = model(inputs).squeeze()\n",
    "            predictions.extend(outputs.cpu().numpy())\n",
    "            truths.extend(labels.cpu().numpy())\n",
    "    mse = mean_squared_error(truths, predictions)\n",
    "    rmse = sqrt(mse)\n",
    "    return rmse"
   ]
  },
  {
   "cell_type": "code",
   "execution_count": 154,
   "metadata": {},
   "outputs": [
    {
     "name": "stdout",
     "output_type": "stream",
     "text": [
      "Fold 1\n",
      "Fold 1, Epoch 1: New best model saved with validation RMSE: 1.7773\n",
      "Fold 1, Epoch 2: New best model saved with validation RMSE: 1.7136\n",
      "Fold 1, Epoch 3: New best model saved with validation RMSE: 1.6863\n",
      "Fold 1, Epoch 4: New best model saved with validation RMSE: 1.6766\n",
      "Fold 1, Epoch 5: New best model saved with validation RMSE: 1.6722\n",
      "Fold 1, Epoch 6: New best model saved with validation RMSE: 1.6698\n",
      "Fold 1, Epoch 8: New best model saved with validation RMSE: 1.6654\n",
      "Fold 1, Epoch 10: New best model saved with validation RMSE: 1.6640\n",
      "Fold 2\n",
      "Fold 2, Epoch 4: New best model saved with validation RMSE: 1.6636\n",
      "Fold 2, Epoch 6: New best model saved with validation RMSE: 1.6615\n",
      "Fold 2, Epoch 7: New best model saved with validation RMSE: 1.6593\n",
      "Fold 3\n",
      "Fold 4\n",
      "Fold 5\n"
     ]
    }
   ],
   "source": [
    "best_val_rmse_across_folds = float('inf')\n",
    "best_model_state = None\n",
    "\n",
    "for fold, (trainval_ids, test_ids) in enumerate(kfold.split(dataset)):\n",
    "    print(f\"Fold {fold+1}\")\n",
    "\n",
    "    model = FCNN(input_size=X.shape[1])\n",
    "    criterion = nn.MSELoss()\n",
    "    optimizer = optim.Adam(model.parameters(), lr=0.001)\n",
    "\n",
    "\n",
    "    for epoch in range(1, 101):\n",
    "        train_loss = train(model, criterion, optimizer, train_loader)\n",
    "        val_rmse = validate(model, val_loader)\n",
    "\n",
    "        if val_rmse < best_val_rmse_across_folds:\n",
    "            best_val_rmse_across_folds = val_rmse\n",
    "            best_model_state = model.state_dict()\n",
    "\n",
    "            print(f\"Fold {fold+1}, Epoch {epoch}: New best model saved with validation RMSE: {best_val_rmse_across_folds:.4f}\")\n",
    "\n",
    "torch.save(best_model_state, './models/fcnn_regression_best_all_folds.pth')"
   ]
  },
  {
   "cell_type": "markdown",
   "metadata": {},
   "source": [
    "**Convolutional Neural Network**"
   ]
  },
  {
   "cell_type": "code",
   "execution_count": 155,
   "metadata": {},
   "outputs": [],
   "source": [
    "class TabularCNN(nn.Module):\n",
    "    def __init__(self, num_features):\n",
    "        super(TabularCNN, self).__init__()\n",
    "        self.conv1 = nn.Conv1d(in_channels=1, out_channels=16, kernel_size=3, stride=1, padding=1)\n",
    "        self.conv2 = nn.Conv1d(in_channels=16, out_channels=32, kernel_size=3, stride=1, padding=1)\n",
    "        self.pool = nn.MaxPool1d(kernel_size=2, stride=2, padding=0)\n",
    "\n",
    "        feature_size_after_conv = num_features // 2 // 2 * 32\n",
    "\n",
    "        self.fc1 = nn.Linear(feature_size_after_conv, 128)\n",
    "        self.fc2 = nn.Linear(128, 1)  # Change for regression: only one output neuron\n",
    "\n",
    "    def forward(self, x):\n",
    "        x = x.unsqueeze(1)  # Shape becomes (batch_size, 1, num_features)\n",
    "        x = self.pool(torch.relu(self.conv1(x)))\n",
    "        x = self.pool(torch.relu(self.conv2(x)))\n",
    "        # Flatten the output for the fully connected layer\n",
    "        x = torch.flatten(x, 1)\n",
    "        x = torch.relu(self.fc1(x))\n",
    "        x = self.fc2(x)  # No activation function on the output layer for regression\n",
    "        return x"
   ]
  },
  {
   "cell_type": "code",
   "execution_count": 156,
   "metadata": {},
   "outputs": [
    {
     "name": "stdout",
     "output_type": "stream",
     "text": [
      "Fold 1\n",
      "Fold 1, Epoch 1: New best model saved with validation RMSE: 1.8680\n",
      "Fold 1, Epoch 2: New best model saved with validation RMSE: 1.7682\n",
      "Fold 1, Epoch 3: New best model saved with validation RMSE: 1.7175\n",
      "Fold 1, Epoch 4: New best model saved with validation RMSE: 1.6930\n",
      "Fold 1, Epoch 6: New best model saved with validation RMSE: 1.6788\n",
      "Fold 1, Epoch 7: New best model saved with validation RMSE: 1.6785\n",
      "Fold 1, Epoch 9: New best model saved with validation RMSE: 1.6756\n",
      "Fold 2\n",
      "Fold 3\n",
      "Fold 3, Epoch 8: New best model saved with validation RMSE: 1.6662\n",
      "Fold 4\n",
      "Fold 5\n"
     ]
    }
   ],
   "source": [
    "best_val_rmse_across_folds = float('inf')\n",
    "best_model_state = None\n",
    "\n",
    "for fold, (trainval_ids, test_ids) in enumerate(kfold.split(dataset)):\n",
    "    print(f\"Fold {fold+1}\")\n",
    "    \n",
    "    model = TabularCNN(num_features=X.shape[1])\n",
    "    criterion = nn.MSELoss()\n",
    "    optimizer = optim.Adam(model.parameters(), lr=0.001)\n",
    "\n",
    "    for epoch in range(1, 101):\n",
    "        train_loss = train(model, criterion, optimizer, train_loader)\n",
    "        val_rmse = validate(model, val_loader)\n",
    "\n",
    "        if val_rmse < best_val_rmse_across_folds:\n",
    "            best_val_rmse_across_folds = val_rmse\n",
    "            best_model_state = model.state_dict()\n",
    "\n",
    "            print(f\"Fold {fold+1}, Epoch {epoch}: New best model saved with validation RMSE: {best_val_rmse_across_folds:.4f}\")\n",
    "\n",
    "torch.save(best_model_state, './models/tabular_cnn_regression_best_all_folds.pth')"
   ]
  },
  {
   "cell_type": "markdown",
   "metadata": {},
   "source": [
    "**Ridge Regression**"
   ]
  },
  {
   "cell_type": "code",
   "execution_count": 157,
   "metadata": {},
   "outputs": [
    {
     "name": "stdout",
     "output_type": "stream",
     "text": [
      "Fitting 5 folds for each of 20 candidates, totalling 100 fits\n",
      "Best parameters found: {'alpha': 545.5594781168514}\n",
      "Best RMSE from grid search: 1.7273172432021355\n",
      "Test RMSE: 1.7386067629033262\n"
     ]
    },
    {
     "data": {
      "text/plain": [
       "['./models/ridge_regression_best_model.pkl']"
      ]
     },
     "execution_count": 157,
     "metadata": {},
     "output_type": "execute_result"
    }
   ],
   "source": [
    "from sklearn.linear_model import Ridge\n",
    "from sklearn.model_selection import train_test_split, GridSearchCV\n",
    "\n",
    "# Prepare the data\n",
    "X = data.drop(['Match ID', 'Result', 'Home Goal Difference'], axis=1)\n",
    "y = data['Home Goal Difference']\n",
    "\n",
    "# Split the data into training and test sets\n",
    "X_train, X_test, y_train, y_test = train_test_split(X, y, test_size=0.2, random_state=42)\n",
    "\n",
    "# Scale features (important for ridge regression)\n",
    "scaler = StandardScaler()\n",
    "X_train_scaled = scaler.fit_transform(X_train)\n",
    "X_test_scaled = scaler.transform(X_test)\n",
    "\n",
    "# Define the model and parameters for grid search\n",
    "model = Ridge()\n",
    "parameters = {'alpha': np.logspace(-4, 4, 20)}\n",
    "\n",
    "# Perform grid search\n",
    "grid_search = GridSearchCV(model, parameters, cv=5, scoring='neg_mean_squared_error', verbose=1)\n",
    "grid_search.fit(X_train_scaled, y_train)\n",
    "\n",
    "# Best parameters and model\n",
    "best_model = grid_search.best_estimator_\n",
    "print(\"Best parameters found:\", grid_search.best_params_)\n",
    "print(\"Best RMSE from grid search:\", np.sqrt(-grid_search.best_score_))\n",
    "\n",
    "# Evaluate on the test set\n",
    "y_pred = best_model.predict(X_test_scaled)\n",
    "test_rmse = np.sqrt(mean_squared_error(y_test, y_pred))\n",
    "print(\"Test RMSE:\", test_rmse)\n",
    "\n",
    "# Save the best model\n",
    "joblib.dump(best_model, './models/ridge_regression_best_model.pkl')"
   ]
  },
  {
   "cell_type": "markdown",
   "metadata": {},
   "source": [
    "### 2.3 Model Evaluation"
   ]
  },
  {
   "cell_type": "code",
   "execution_count": 158,
   "metadata": {},
   "outputs": [
    {
     "name": "stdout",
     "output_type": "stream",
     "text": [
      "              Model      RMSE       MAE        R²\n",
      "0  Ridge Regression  1.738607  1.343207  0.158629\n",
      "1               CNN  0.250000       N/A       N/A\n",
      "2              FCNN  0.250000       N/A       N/A\n"
     ]
    }
   ],
   "source": [
    "from sklearn.metrics import mean_squared_error, r2_score, mean_absolute_error\n",
    "\n",
    "# Load and evaluate the Ridge regression model\n",
    "ridge_model = joblib.load('./models/ridge_regression_best_model.pkl')\n",
    "\n",
    "ridge_predictions = ridge_model.predict(X_test_scaled)\n",
    "ridge_rmse = np.sqrt(mean_squared_error(y_test, ridge_predictions))\n",
    "ridge_mae = mean_absolute_error(y_test, ridge_predictions)\n",
    "ridge_r2 = r2_score(y_test, ridge_predictions)\n",
    "\n",
    "# Evaluate CNN Model\n",
    "cnn_model = TabularCNN(num_features=X.shape[1])\n",
    "state_dict = torch.load('./models/tabular_cnn_regression_best_all_folds.pth')\n",
    "cnn_model.load_state_dict(state_dict)\n",
    "cnn_rmse = evaluate_model(cnn_model, test_loader)\n",
    "\n",
    "# Evaluate FCNN Model\n",
    "fcnn_model = FCNN(input_size=X.shape[1])\n",
    "state_dict = torch.load('./models/fcnn_regression_best_all_folds.pth')\n",
    "fcnn_model.load_state_dict(state_dict)\n",
    "fcnn_rmse = evaluate_model(fcnn_model, test_loader)\n",
    "\n",
    "# Display Evaluation Metrics\n",
    "metrics = pd.DataFrame({\n",
    "    'Model': ['Ridge Regression', 'CNN', 'FCNN'],\n",
    "    'RMSE': [ridge_rmse, cnn_rmse, fcnn_rmse],\n",
    "    'MAE': [ridge_mae, 'N/A', 'N/A'],\n",
    "    'R²': [ridge_r2, 'N/A', 'N/A']\n",
    "})\n",
    "\n",
    "print(metrics)"
   ]
  }
 ],
 "metadata": {
  "kernelspec": {
   "display_name": "Python 3",
   "language": "python",
   "name": "python3"
  },
  "language_info": {
   "codemirror_mode": {
    "name": "ipython",
    "version": 3
   },
   "file_extension": ".py",
   "mimetype": "text/x-python",
   "name": "python",
   "nbconvert_exporter": "python",
   "pygments_lexer": "ipython3",
   "version": "3.10.6"
  }
 },
 "nbformat": 4,
 "nbformat_minor": 2
}
